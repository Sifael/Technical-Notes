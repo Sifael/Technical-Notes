{
 "cells": [
  {
   "cell_type": "markdown",
   "id": "2d02b550-b134-4a37-a991-65903cdbbca7",
   "metadata": {},
   "source": [
    "## Queue Data Structure\n",
    "\n",
    "The Queue data structure mirrors closely the queues we have in real life. Whether at the Government office, bank or train station, the queues often have one entry position and one exit position. That is items are added at the end of the queue, however, they are removed at the front of the queue. Unlike the `stack` with its `LIFO` (Last In First Out), the queue is `FIFO` First In, First Out.\n",
    "\n",
    "### Queue Operations\n",
    "\n",
    "The queue has the following operations:\n",
    "\n",
    "### 1. enqueue\n",
    "\n",
    "The `enqueue` operations simply adds an item to the end of the queue.\n",
    "\n",
    "### 2. dequeue\n",
    "\n",
    "The `dequeue` operations removes the top item at the beginning of the queue.\n",
    "\n",
    "### 3. top_of_qeueue\n",
    "\n",
    "The `top_of_qeueue` operation displays/returns the value infront of the queue.\n",
    "\n",
    "\n",
    "### 4. Size\n",
    "\n",
    "The `Size` operation returns the size of the Queue.\n",
    "\n",
    "### 5. is_empty\n",
    "\n",
    "The `is_empty` operation returns the size of the Queue.\n",
    "\n",
    "\n",
    "\n"
   ]
  },
  {
   "cell_type": "markdown",
   "id": "e5c492af-b62b-4937-bc78-924bcfb5e0e1",
   "metadata": {},
   "source": [
    "<br>\n",
    "\n",
    "## Implementation of Queue in Python\n",
    "\n",
    "The list data type in python has the facilities to implement a queue data structure. Below is an example of the implementation."
   ]
  },
  {
   "cell_type": "code",
   "execution_count": 1,
   "id": "4a7c0749-da68-4a5c-8a24-cb748a6d1b10",
   "metadata": {},
   "outputs": [],
   "source": [
    "\"\"\" \n",
    "Implementaion of the Queue data structure in Python\n",
    "\n",
    "Methods in the Implementation\n",
    "\n",
    "1. Check if Queue is Empty\n",
    "2. Check the size of the queue\n",
    "3. Enqueue items to the queue\n",
    "4. Check the front/top of the queue\n",
    "5. Dequeue from the queue\n",
    "\n",
    "\"\"\"\n",
    "\n",
    "class Queue:\n",
    "\n",
    "    def __init__(self):\n",
    "        self.queue = []\n",
    "\n",
    "    def enqueue(self, value):\n",
    "        self.queue.insert(0, value)\n",
    "\n",
    "    def dequeue(self):\n",
    "        self.queue.pop()\n",
    "\n",
    "    def __len__(self):\n",
    "        return len(self.queue)\n",
    "\n",
    "    def is_empty(self):\n",
    "        return self.queue == []\n",
    "\n",
    "    def top_of_queue(self):\n",
    "        return self.queue[-1] \n",
    "\n",
    "    def __str__(self):\n",
    "        return \" -> \".join([str(x) for x in self.queue])"
   ]
  },
  {
   "cell_type": "markdown",
   "id": "22bcb310-cf16-4df0-8b1b-a6984cbe75d1",
   "metadata": {},
   "source": [
    "<br>\n",
    "\n",
    "### Sample Implementation"
   ]
  },
  {
   "cell_type": "code",
   "execution_count": 2,
   "id": "b51e1bf4-244b-4d3a-8fa8-50c54ef5d682",
   "metadata": {},
   "outputs": [
    {
     "data": {
      "text/plain": [
       "True"
      ]
     },
     "execution_count": 2,
     "metadata": {},
     "output_type": "execute_result"
    }
   ],
   "source": [
    "customers = Queue()\n",
    "\n",
    "customers.is_empty()"
   ]
  },
  {
   "cell_type": "markdown",
   "id": "92e20850-c8db-48f4-8935-5e6e5ecef31a",
   "metadata": {},
   "source": [
    "### Enqueue Items and Check Size"
   ]
  },
  {
   "cell_type": "code",
   "execution_count": 3,
   "id": "6f3f9038-04c9-475a-9d4d-e6df61404ff0",
   "metadata": {},
   "outputs": [
    {
     "data": {
      "text/plain": [
       "(False, 3)"
      ]
     },
     "execution_count": 3,
     "metadata": {},
     "output_type": "execute_result"
    }
   ],
   "source": [
    "customers.enqueue('Janis')\n",
    "customers.enqueue('John')\n",
    "customers.enqueue('Tabitha')\n",
    "\n",
    "customers.is_empty(), len(customers)"
   ]
  },
  {
   "cell_type": "code",
   "execution_count": 4,
   "id": "c19d1212-ce5d-4870-afd3-771a2c95535c",
   "metadata": {},
   "outputs": [
    {
     "name": "stdout",
     "output_type": "stream",
     "text": [
      "Tabitha -> John -> Janis\n"
     ]
    }
   ],
   "source": [
    "print(customers)"
   ]
  },
  {
   "cell_type": "markdown",
   "id": "31f0ae85-d5a3-471d-9e79-a07880180d20",
   "metadata": {},
   "source": [
    "<br>\n",
    "\n",
    "### Check top of the Queue"
   ]
  },
  {
   "cell_type": "code",
   "execution_count": 5,
   "id": "09d9eeb5-8bbd-480d-8034-965433c6ff68",
   "metadata": {},
   "outputs": [
    {
     "data": {
      "text/plain": [
       "'Janis'"
      ]
     },
     "execution_count": 5,
     "metadata": {},
     "output_type": "execute_result"
    }
   ],
   "source": [
    "customers.top_of_queue()"
   ]
  },
  {
   "cell_type": "markdown",
   "id": "08454430-234c-499d-a16b-4d8b02685cf4",
   "metadata": {},
   "source": [
    "### Dequeue Customers"
   ]
  },
  {
   "cell_type": "code",
   "execution_count": 6,
   "id": "2fd0f4a6-a8c0-47b0-8a1c-16a0137a01ae",
   "metadata": {},
   "outputs": [
    {
     "data": {
      "text/plain": [
       "'John'"
      ]
     },
     "execution_count": 6,
     "metadata": {},
     "output_type": "execute_result"
    }
   ],
   "source": [
    "customers.dequeue()\n",
    "customers.top_of_queue()"
   ]
  },
  {
   "cell_type": "code",
   "execution_count": 7,
   "id": "8f6e4cbd-bdcf-46ad-a4a0-45c21e0d692f",
   "metadata": {},
   "outputs": [
    {
     "name": "stdout",
     "output_type": "stream",
     "text": [
      "Tabitha -> John\n"
     ]
    }
   ],
   "source": [
    "print(customers)"
   ]
  }
 ],
 "metadata": {
  "kernelspec": {
   "display_name": "Python 3 (ipykernel)",
   "language": "python",
   "name": "python3"
  },
  "language_info": {
   "codemirror_mode": {
    "name": "ipython",
    "version": 3
   },
   "file_extension": ".py",
   "mimetype": "text/x-python",
   "name": "python",
   "nbconvert_exporter": "python",
   "pygments_lexer": "ipython3",
   "version": "3.12.2"
  }
 },
 "nbformat": 4,
 "nbformat_minor": 5
}
