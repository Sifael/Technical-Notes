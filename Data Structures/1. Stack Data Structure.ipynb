{
 "cells": [
  {
   "cell_type": "markdown",
   "metadata": {},
   "source": [
    "## Stack Data Structure\n",
    "\n",
    "The `Stack` data structure is perhaps the most intiutive data structure visible in our everyday lives. For examples, Books are often stacked on top of each other, Plates are often stacked in a kitchen cabinet. Papers are often stacked together. This is what the Stack Data Structure is. It is a collection of items that are on top of each other.\n",
    "\n",
    "\n",
    "In computing Stack Data structures can be useful in operations such as Undoing and/or redoing an operations. This is commond in text editors.\n",
    "\n",
    "### Operations of a Stack\n",
    "\n",
    "In the real world, to appropriately and correctly get to the bottom item of a stack without incident, you must sort the top stack items one by one. The Stack data structure also has defined properties and operations to appropriately access, manipulate and retrieve information. Below are the core operations of a stack.\n",
    "\n"
   ]
  },
  {
   "cell_type": "markdown",
   "metadata": {},
   "source": [
    "### 1. Push\n",
    "\n",
    "The `push` operations simply adds an item on top of an existing or empty stack.\n",
    "\n",
    "### 2. Pop\n",
    "\n",
    "The `Pop` operations removes the top item on the stack. This also reduces the size of a stack. \n",
    "\n",
    "### 3. Peek\n",
    "\n",
    "The `Peek` operation displays/returns the value atop the stack.\n",
    "\n",
    "\n",
    "### 4. Size\n",
    "\n",
    "The `Size` operation returns the size of the Stack.\n",
    "\n"
   ]
  },
  {
   "cell_type": "markdown",
   "metadata": {},
   "source": [
    "## Implementation in Python\n",
    "\n",
    "In python, the list object has the desired properties to create the Stack Data Structure. Below is the implementation of the `stack` in Python."
   ]
  },
  {
   "cell_type": "code",
   "execution_count": 1,
   "metadata": {},
   "outputs": [],
   "source": [
    "\"\"\" \n",
    "Implementation of Stack Data Structure in Python.\n",
    "\n",
    "A stack is an abstract data type that follows the LIFO\n",
    "or Last In First Out operations. Below is the implementation\n",
    "of the stack data type with the following methods:\n",
    "\n",
    "1. Check if the stack is empty on not\n",
    "2. Add an item in the stack\n",
    "3. Return the top item in the stack\n",
    "4. Check the length/size of the stack\n",
    "5. Remove item top of the stack\n",
    "\n",
    "\"\"\"\n",
    "\n",
    "class Stack:\n",
    "    \n",
    "    def __init__(self) -> None:\n",
    "        self.stack = []\n",
    "        \n",
    "    # Retuns the size of the stack\n",
    "    def __len__(self):\n",
    "        return len(self.stack)\n",
    "    \n",
    "    def push_stack(self, value):\n",
    "        self.stack.append(value)\n",
    "        \n",
    "    def pop_stack(self):\n",
    "        self.stack.pop()\n",
    "        \n",
    "    def peek_stack(self):\n",
    "        return self.stack[-1]\n",
    "    \n",
    "    def is_empty(self):\n",
    "        return self.stack == []\n",
    "\n",
    "    def __str__(self):\n",
    "        return \" -> \".join([str(x) for x in self.stack])"
   ]
  },
  {
   "cell_type": "code",
   "execution_count": 2,
   "metadata": {},
   "outputs": [
    {
     "name": "stdout",
     "output_type": "stream",
     "text": [
      "True\n"
     ]
    }
   ],
   "source": [
    "languages = Stack()\n",
    "\n",
    "# Check if stack is empty\n",
    "print(languages.is_empty())"
   ]
  },
  {
   "cell_type": "markdown",
   "metadata": {},
   "source": [
    "### Adding Languages to the Stack"
   ]
  },
  {
   "cell_type": "code",
   "execution_count": 3,
   "metadata": {},
   "outputs": [],
   "source": [
    "languages.push_stack(\"C++\")\n",
    "languages.push_stack(\"Python\")"
   ]
  },
  {
   "cell_type": "code",
   "execution_count": 4,
   "metadata": {},
   "outputs": [
    {
     "name": "stdout",
     "output_type": "stream",
     "text": [
      "C++ -> Python\n"
     ]
    }
   ],
   "source": [
    "print(languages)"
   ]
  },
  {
   "cell_type": "markdown",
   "metadata": {},
   "source": [
    "### Peek the Top of the Stack"
   ]
  },
  {
   "cell_type": "code",
   "execution_count": 5,
   "metadata": {},
   "outputs": [
    {
     "data": {
      "text/plain": [
       "'Python'"
      ]
     },
     "execution_count": 5,
     "metadata": {},
     "output_type": "execute_result"
    }
   ],
   "source": [
    "languages.peek_stack()"
   ]
  },
  {
   "cell_type": "code",
   "execution_count": 6,
   "metadata": {},
   "outputs": [],
   "source": [
    "languages.push_stack('R')"
   ]
  },
  {
   "cell_type": "code",
   "execution_count": 7,
   "metadata": {},
   "outputs": [
    {
     "data": {
      "text/plain": [
       "(False, 3)"
      ]
     },
     "execution_count": 7,
     "metadata": {},
     "output_type": "execute_result"
    }
   ],
   "source": [
    "languages.is_empty(), len(languages)"
   ]
  },
  {
   "cell_type": "code",
   "execution_count": 8,
   "metadata": {},
   "outputs": [
    {
     "name": "stdout",
     "output_type": "stream",
     "text": [
      "C++ -> Python -> R\n"
     ]
    }
   ],
   "source": [
    "print(languages)"
   ]
  },
  {
   "cell_type": "markdown",
   "metadata": {},
   "source": [
    "### Remove the Top Item on the Stack"
   ]
  },
  {
   "cell_type": "code",
   "execution_count": 9,
   "metadata": {},
   "outputs": [],
   "source": [
    "languages.pop_stack()"
   ]
  },
  {
   "cell_type": "code",
   "execution_count": 10,
   "metadata": {},
   "outputs": [
    {
     "data": {
      "text/plain": [
       "(False, 2)"
      ]
     },
     "execution_count": 10,
     "metadata": {},
     "output_type": "execute_result"
    }
   ],
   "source": [
    "languages.is_empty(), len(languages)"
   ]
  },
  {
   "cell_type": "code",
   "execution_count": 11,
   "metadata": {},
   "outputs": [
    {
     "name": "stdout",
     "output_type": "stream",
     "text": [
      "C++ -> Python\n"
     ]
    }
   ],
   "source": [
    "print(languages)"
   ]
  }
 ],
 "metadata": {
  "kernelspec": {
   "display_name": "Python 3 (ipykernel)",
   "language": "python",
   "name": "python3"
  },
  "language_info": {
   "codemirror_mode": {
    "name": "ipython",
    "version": 3
   },
   "file_extension": ".py",
   "mimetype": "text/x-python",
   "name": "python",
   "nbconvert_exporter": "python",
   "pygments_lexer": "ipython3",
   "version": "3.12.2"
  }
 },
 "nbformat": 4,
 "nbformat_minor": 4
}
